{
 "cells": [
  {
   "cell_type": "code",
   "execution_count": 1,
   "id": "d32533c5",
   "metadata": {},
   "outputs": [],
   "source": [
    "import pandas as pd\n",
    "import numpy as np\n"
   ]
  },
  {
   "cell_type": "code",
   "execution_count": 2,
   "id": "7cf76b76",
   "metadata": {},
   "outputs": [
    {
     "name": "stderr",
     "output_type": "stream",
     "text": [
      "C:\\Users\\moshi\\anaconda3\\lib\\site-packages\\IPython\\core\\interactiveshell.py:3444: FutureWarning: The warn_bad_lines argument has been deprecated and will be removed in a future version.\n",
      "\n",
      "\n",
      "  exec(code_obj, self.user_global_ns, self.user_ns)\n",
      "C:\\Users\\moshi\\anaconda3\\lib\\site-packages\\IPython\\core\\interactiveshell.py:3444: FutureWarning: The error_bad_lines argument has been deprecated and will be removed in a future version.\n",
      "\n",
      "\n",
      "  exec(code_obj, self.user_global_ns, self.user_ns)\n"
     ]
    }
   ],
   "source": [
    "df1 = pd.read_csv('qqp.csv',index_col=False, encoding='iso-8859-1', \n",
    "                                warn_bad_lines=True, error_bad_lines=False)\n",
    "\n",
    "df2 = pd.read_csv('qqp.csv',index_col=False, encoding='iso-8859-1', \n",
    "                                warn_bad_lines=True, error_bad_lines=False)\n"
   ]
  },
  {
   "cell_type": "code",
   "execution_count": null,
   "id": "3ba107b2",
   "metadata": {},
   "outputs": [],
   "source": [
    "df1.is_duplicate[df1.is_duplicate == 1]=\"True\"\n",
    "df1.is_duplicate[df1.is_duplicate == 0]=\"False\"\n",
    "\n",
    "df2.is_duplicate[df2.is_duplicate == 1]=\"True\"\n",
    "df2.is_duplicate[df2.is_duplicate == 0]=\"False\""
   ]
  },
  {
   "cell_type": "code",
   "execution_count": null,
   "id": "a6c7747f",
   "metadata": {},
   "outputs": [],
   "source": [
    "# taking acceptable and deleting unacceptable\n",
    "df3 = df1[~df1.is_duplicate.str.contains('True')]"
   ]
  },
  {
   "cell_type": "code",
   "execution_count": null,
   "id": "696042e9",
   "metadata": {},
   "outputs": [],
   "source": [
    "# randomly picking 250 rows\n",
    "df3 = df3.sample(n=250, replace=True)"
   ]
  },
  {
   "cell_type": "code",
   "execution_count": null,
   "id": "2e686dfd",
   "metadata": {},
   "outputs": [],
   "source": [
    "df3[\"is_duplicate\"].value_counts()"
   ]
  },
  {
   "cell_type": "code",
   "execution_count": null,
   "id": "630b702c",
   "metadata": {},
   "outputs": [],
   "source": [
    "# taking unacceptable and deleting unacceptable\n",
    "df4 = df2[~df2.is_duplicate.str.contains(\"False\")]"
   ]
  },
  {
   "cell_type": "code",
   "execution_count": null,
   "id": "ac0e4294",
   "metadata": {},
   "outputs": [],
   "source": [
    "# randomly picking 250 rows\n",
    "df4 = df4.sample(n=250, replace=True)"
   ]
  },
  {
   "cell_type": "code",
   "execution_count": null,
   "id": "edb6d3c8",
   "metadata": {},
   "outputs": [],
   "source": [
    "df4[\"is_duplicate\"].value_counts()"
   ]
  },
  {
   "cell_type": "code",
   "execution_count": null,
   "id": "9f017751",
   "metadata": {},
   "outputs": [],
   "source": [
    "#concating acceptable and unacceptable\n",
    "frames = [df3, df4]\n",
    "\n",
    "temp = pd.concat(frames)"
   ]
  },
  {
   "cell_type": "code",
   "execution_count": null,
   "id": "e2b71182",
   "metadata": {},
   "outputs": [],
   "source": [
    "temp[\"is_duplicate\"].value_counts()"
   ]
  },
  {
   "cell_type": "code",
   "execution_count": null,
   "id": "3c2ae414",
   "metadata": {
    "scrolled": false
   },
   "outputs": [],
   "source": [
    "temp.head()"
   ]
  },
  {
   "cell_type": "code",
   "execution_count": null,
   "id": "83d9ff3e",
   "metadata": {},
   "outputs": [],
   "source": [
    "temp.tail()"
   ]
  },
  {
   "cell_type": "code",
   "execution_count": null,
   "id": "d2f6327e",
   "metadata": {},
   "outputs": [],
   "source": [
    "text1 = temp['question1']+temp['question2']\n",
    "emotion= temp['is_duplicate'].tolist()"
   ]
  },
  {
   "cell_type": "code",
   "execution_count": null,
   "id": "6430e0a7",
   "metadata": {},
   "outputs": [],
   "source": [
    "text=text1.values.tolist()"
   ]
  },
  {
   "cell_type": "code",
   "execution_count": null,
   "id": "06974fef",
   "metadata": {},
   "outputs": [],
   "source": [
    "from sklearn.model_selection import train_test_split\n",
    "X_train, X_test, y_train, y_test = train_test_split(text , emotion, test_size=.2, random_state=42)"
   ]
  },
  {
   "cell_type": "code",
   "execution_count": null,
   "id": "fe9e61fb",
   "metadata": {},
   "outputs": [],
   "source": [
    "import ktrain\n",
    "from ktrain import text\n",
    "MODEL_NAME = 'bert-base-uncased'\n",
    "t = text.Transformer(MODEL_NAME, maxlen=500)\n"
   ]
  },
  {
   "cell_type": "code",
   "execution_count": null,
   "id": "c269013f",
   "metadata": {},
   "outputs": [],
   "source": [
    "trn = t.preprocess_train(X_train, y_train)\n",
    "val = t.preprocess_test(X_test, y_test)"
   ]
  },
  {
   "cell_type": "code",
   "execution_count": null,
   "id": "69d54231",
   "metadata": {
    "scrolled": true
   },
   "outputs": [],
   "source": [
    "model = t.get_classifier()"
   ]
  },
  {
   "cell_type": "code",
   "execution_count": null,
   "id": "7070ffb4",
   "metadata": {},
   "outputs": [],
   "source": [
    "learner = ktrain.get_learner(model, train_data=trn, val_data=val, batch_size=6)"
   ]
  },
  {
   "cell_type": "code",
   "execution_count": null,
   "id": "e1e76e69",
   "metadata": {
    "scrolled": true
   },
   "outputs": [],
   "source": [
    "learner.fit_onecycle(2e-5, 5)"
   ]
  },
  {
   "cell_type": "code",
   "execution_count": null,
   "id": "47702027",
   "metadata": {},
   "outputs": [],
   "source": [
    "class_names=[\"True\",\"False\"]"
   ]
  },
  {
   "cell_type": "code",
   "execution_count": null,
   "id": "b9ccd39f",
   "metadata": {
    "scrolled": false
   },
   "outputs": [],
   "source": [
    "learner.validate(val_data=(val), class_names=class_names)"
   ]
  },
  {
   "cell_type": "code",
   "execution_count": null,
   "id": "0ed64993",
   "metadata": {},
   "outputs": [],
   "source": []
  },
  {
   "cell_type": "code",
   "execution_count": null,
   "id": "b3ede535",
   "metadata": {},
   "outputs": [],
   "source": []
  }
 ],
 "metadata": {
  "kernelspec": {
   "display_name": "Python 3 (ipykernel)",
   "language": "python",
   "name": "python3"
  },
  "language_info": {
   "codemirror_mode": {
    "name": "ipython",
    "version": 3
   },
   "file_extension": ".py",
   "mimetype": "text/x-python",
   "name": "python",
   "nbconvert_exporter": "python",
   "pygments_lexer": "ipython3",
   "version": "3.9.7"
  }
 },
 "nbformat": 4,
 "nbformat_minor": 5
}
