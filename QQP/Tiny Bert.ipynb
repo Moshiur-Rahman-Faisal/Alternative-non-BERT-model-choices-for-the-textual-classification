{
 "cells": [
  {
   "cell_type": "code",
   "execution_count": 1,
   "id": "d32533c5",
   "metadata": {},
   "outputs": [],
   "source": [
    "import pandas as pd\n",
    "import numpy as np\n"
   ]
  },
  {
   "cell_type": "code",
   "execution_count": 2,
   "id": "68458394",
   "metadata": {},
   "outputs": [
    {
     "name": "stderr",
     "output_type": "stream",
     "text": [
      "C:\\Users\\moshi\\anaconda3\\lib\\site-packages\\IPython\\core\\interactiveshell.py:3444: FutureWarning: The warn_bad_lines argument has been deprecated and will be removed in a future version.\n",
      "\n",
      "\n",
      "  exec(code_obj, self.user_global_ns, self.user_ns)\n",
      "C:\\Users\\moshi\\anaconda3\\lib\\site-packages\\IPython\\core\\interactiveshell.py:3444: FutureWarning: The error_bad_lines argument has been deprecated and will be removed in a future version.\n",
      "\n",
      "\n",
      "  exec(code_obj, self.user_global_ns, self.user_ns)\n"
     ]
    }
   ],
   "source": [
    "df1 = pd.read_csv('qqp.csv',index_col=False, encoding='iso-8859-1', \n",
    "                                warn_bad_lines=True, error_bad_lines=False)\n",
    "\n",
    "df2 = pd.read_csv('qqp.csv',index_col=False, encoding='iso-8859-1', \n",
    "                                warn_bad_lines=True, error_bad_lines=False)\n"
   ]
  },
  {
   "cell_type": "code",
   "execution_count": 3,
   "id": "5157cd5e",
   "metadata": {},
   "outputs": [
    {
     "name": "stderr",
     "output_type": "stream",
     "text": [
      "C:\\Users\\moshi\\AppData\\Local\\Temp/ipykernel_20032/3280091234.py:1: SettingWithCopyWarning: \n",
      "A value is trying to be set on a copy of a slice from a DataFrame\n",
      "\n",
      "See the caveats in the documentation: https://pandas.pydata.org/pandas-docs/stable/user_guide/indexing.html#returning-a-view-versus-a-copy\n",
      "  df1.is_duplicate[df1.is_duplicate == 1]=\"True\"\n",
      "C:\\Users\\moshi\\AppData\\Local\\Temp/ipykernel_20032/3280091234.py:2: SettingWithCopyWarning: \n",
      "A value is trying to be set on a copy of a slice from a DataFrame\n",
      "\n",
      "See the caveats in the documentation: https://pandas.pydata.org/pandas-docs/stable/user_guide/indexing.html#returning-a-view-versus-a-copy\n",
      "  df1.is_duplicate[df1.is_duplicate == 0]=\"False\"\n",
      "C:\\Users\\moshi\\AppData\\Local\\Temp/ipykernel_20032/3280091234.py:4: SettingWithCopyWarning: \n",
      "A value is trying to be set on a copy of a slice from a DataFrame\n",
      "\n",
      "See the caveats in the documentation: https://pandas.pydata.org/pandas-docs/stable/user_guide/indexing.html#returning-a-view-versus-a-copy\n",
      "  df2.is_duplicate[df2.is_duplicate == 1]=\"True\"\n",
      "C:\\Users\\moshi\\AppData\\Local\\Temp/ipykernel_20032/3280091234.py:5: SettingWithCopyWarning: \n",
      "A value is trying to be set on a copy of a slice from a DataFrame\n",
      "\n",
      "See the caveats in the documentation: https://pandas.pydata.org/pandas-docs/stable/user_guide/indexing.html#returning-a-view-versus-a-copy\n",
      "  df2.is_duplicate[df2.is_duplicate == 0]=\"False\"\n"
     ]
    }
   ],
   "source": [
    "df1.is_duplicate[df1.is_duplicate == 1]=\"True\"\n",
    "df1.is_duplicate[df1.is_duplicate == 0]=\"False\"\n",
    "\n",
    "df2.is_duplicate[df2.is_duplicate == 1]=\"True\"\n",
    "df2.is_duplicate[df2.is_duplicate == 0]=\"False\""
   ]
  },
  {
   "cell_type": "code",
   "execution_count": 4,
   "id": "5b710247",
   "metadata": {},
   "outputs": [],
   "source": [
    "# taking acceptable and deleting unacceptable\n",
    "df3 = df1[~df1.is_duplicate.str.contains('True')]"
   ]
  },
  {
   "cell_type": "code",
   "execution_count": 5,
   "id": "5704682f",
   "metadata": {},
   "outputs": [],
   "source": [
    "# randomly picking 250 rows\n",
    "df3 = df3.sample(n=250, replace=True)"
   ]
  },
  {
   "cell_type": "code",
   "execution_count": 6,
   "id": "75cce3cb",
   "metadata": {},
   "outputs": [
    {
     "data": {
      "text/plain": [
       "False    250\n",
       "Name: is_duplicate, dtype: int64"
      ]
     },
     "execution_count": 6,
     "metadata": {},
     "output_type": "execute_result"
    }
   ],
   "source": [
    "df3[\"is_duplicate\"].value_counts()"
   ]
  },
  {
   "cell_type": "code",
   "execution_count": 7,
   "id": "6d353ff5",
   "metadata": {},
   "outputs": [],
   "source": [
    "# taking unacceptable and deleting unacceptable\n",
    "df4 = df2[~df2.is_duplicate.str.contains(\"False\")]"
   ]
  },
  {
   "cell_type": "code",
   "execution_count": 8,
   "id": "b6ca1d3b",
   "metadata": {},
   "outputs": [],
   "source": [
    "# randomly picking 250 rows\n",
    "df4 = df4.sample(n=250, replace=True)"
   ]
  },
  {
   "cell_type": "code",
   "execution_count": 9,
   "id": "8d533a8d",
   "metadata": {},
   "outputs": [
    {
     "data": {
      "text/plain": [
       "True    250\n",
       "Name: is_duplicate, dtype: int64"
      ]
     },
     "execution_count": 9,
     "metadata": {},
     "output_type": "execute_result"
    }
   ],
   "source": [
    "df4[\"is_duplicate\"].value_counts()"
   ]
  },
  {
   "cell_type": "code",
   "execution_count": 10,
   "id": "33f9d5e9",
   "metadata": {},
   "outputs": [],
   "source": [
    "#concating acceptable and unacceptable\n",
    "frames = [df3, df4]\n",
    "\n",
    "temp = pd.concat(frames)"
   ]
  },
  {
   "cell_type": "code",
   "execution_count": 11,
   "id": "b62b7951",
   "metadata": {},
   "outputs": [
    {
     "data": {
      "text/plain": [
       "False    250\n",
       "True     250\n",
       "Name: is_duplicate, dtype: int64"
      ]
     },
     "execution_count": 11,
     "metadata": {},
     "output_type": "execute_result"
    }
   ],
   "source": [
    "temp[\"is_duplicate\"].value_counts()"
   ]
  },
  {
   "cell_type": "code",
   "execution_count": 12,
   "id": "3c2ae414",
   "metadata": {
    "scrolled": false
   },
   "outputs": [
    {
     "data": {
      "text/html": [
       "<div>\n",
       "<style scoped>\n",
       "    .dataframe tbody tr th:only-of-type {\n",
       "        vertical-align: middle;\n",
       "    }\n",
       "\n",
       "    .dataframe tbody tr th {\n",
       "        vertical-align: top;\n",
       "    }\n",
       "\n",
       "    .dataframe thead th {\n",
       "        text-align: right;\n",
       "    }\n",
       "</style>\n",
       "<table border=\"1\" class=\"dataframe\">\n",
       "  <thead>\n",
       "    <tr style=\"text-align: right;\">\n",
       "      <th></th>\n",
       "      <th>id</th>\n",
       "      <th>qid1</th>\n",
       "      <th>qid2</th>\n",
       "      <th>question1</th>\n",
       "      <th>question2</th>\n",
       "      <th>is_duplicate</th>\n",
       "    </tr>\n",
       "  </thead>\n",
       "  <tbody>\n",
       "    <tr>\n",
       "      <th>268255</th>\n",
       "      <td>152883</td>\n",
       "      <td>240108</td>\n",
       "      <td>240109</td>\n",
       "      <td>Why do we have to pretend that we are happy?</td>\n",
       "      <td>Is it healthy to pretend to be happy?</td>\n",
       "      <td>False</td>\n",
       "    </tr>\n",
       "    <tr>\n",
       "      <th>358369</th>\n",
       "      <td>347538</td>\n",
       "      <td>331600</td>\n",
       "      <td>66631</td>\n",
       "      <td>What is the corporate culture like at Excel Tr...</td>\n",
       "      <td>What is the corporate culture like at Northern...</td>\n",
       "      <td>False</td>\n",
       "    </tr>\n",
       "    <tr>\n",
       "      <th>107217</th>\n",
       "      <td>322172</td>\n",
       "      <td>447952</td>\n",
       "      <td>447953</td>\n",
       "      <td>What is the best girls hostel in Kota near sat...</td>\n",
       "      <td>Which are the best hostels in Kota near the An...</td>\n",
       "      <td>False</td>\n",
       "    </tr>\n",
       "    <tr>\n",
       "      <th>156862</th>\n",
       "      <td>174712</td>\n",
       "      <td>269183</td>\n",
       "      <td>269184</td>\n",
       "      <td>What if Donald Trump had stood against Barack ...</td>\n",
       "      <td>I am planning to start an online food market m...</td>\n",
       "      <td>False</td>\n",
       "    </tr>\n",
       "    <tr>\n",
       "      <th>274590</th>\n",
       "      <td>157654</td>\n",
       "      <td>246447</td>\n",
       "      <td>246448</td>\n",
       "      <td>Why do some people write with their right hand...</td>\n",
       "      <td>Why do people become left-handed or right-handed?</td>\n",
       "      <td>False</td>\n",
       "    </tr>\n",
       "  </tbody>\n",
       "</table>\n",
       "</div>"
      ],
      "text/plain": [
       "            id    qid1    qid2  \\\n",
       "268255  152883  240108  240109   \n",
       "358369  347538  331600   66631   \n",
       "107217  322172  447952  447953   \n",
       "156862  174712  269183  269184   \n",
       "274590  157654  246447  246448   \n",
       "\n",
       "                                                question1  \\\n",
       "268255       Why do we have to pretend that we are happy?   \n",
       "358369  What is the corporate culture like at Excel Tr...   \n",
       "107217  What is the best girls hostel in Kota near sat...   \n",
       "156862  What if Donald Trump had stood against Barack ...   \n",
       "274590  Why do some people write with their right hand...   \n",
       "\n",
       "                                                question2 is_duplicate  \n",
       "268255              Is it healthy to pretend to be happy?        False  \n",
       "358369  What is the corporate culture like at Northern...        False  \n",
       "107217  Which are the best hostels in Kota near the An...        False  \n",
       "156862  I am planning to start an online food market m...        False  \n",
       "274590  Why do people become left-handed or right-handed?        False  "
      ]
     },
     "execution_count": 12,
     "metadata": {},
     "output_type": "execute_result"
    }
   ],
   "source": [
    "temp.head()"
   ]
  },
  {
   "cell_type": "code",
   "execution_count": 13,
   "id": "83d9ff3e",
   "metadata": {},
   "outputs": [
    {
     "data": {
      "text/html": [
       "<div>\n",
       "<style scoped>\n",
       "    .dataframe tbody tr th:only-of-type {\n",
       "        vertical-align: middle;\n",
       "    }\n",
       "\n",
       "    .dataframe tbody tr th {\n",
       "        vertical-align: top;\n",
       "    }\n",
       "\n",
       "    .dataframe thead th {\n",
       "        text-align: right;\n",
       "    }\n",
       "</style>\n",
       "<table border=\"1\" class=\"dataframe\">\n",
       "  <thead>\n",
       "    <tr style=\"text-align: right;\">\n",
       "      <th></th>\n",
       "      <th>id</th>\n",
       "      <th>qid1</th>\n",
       "      <th>qid2</th>\n",
       "      <th>question1</th>\n",
       "      <th>question2</th>\n",
       "      <th>is_duplicate</th>\n",
       "    </tr>\n",
       "  </thead>\n",
       "  <tbody>\n",
       "    <tr>\n",
       "      <th>246229</th>\n",
       "      <td>167726</td>\n",
       "      <td>259971</td>\n",
       "      <td>107016</td>\n",
       "      <td>How do you train a Dogue de Bordeaux?</td>\n",
       "      <td>How can I train my dog?</td>\n",
       "      <td>True</td>\n",
       "    </tr>\n",
       "    <tr>\n",
       "      <th>57705</th>\n",
       "      <td>197153</td>\n",
       "      <td>7251</td>\n",
       "      <td>65964</td>\n",
       "      <td>Is it possible to get pregnant if a couple is ...</td>\n",
       "      <td>Can you get pregnant a couple days before your...</td>\n",
       "      <td>True</td>\n",
       "    </tr>\n",
       "    <tr>\n",
       "      <th>36063</th>\n",
       "      <td>330075</td>\n",
       "      <td>456799</td>\n",
       "      <td>456800</td>\n",
       "      <td>What can I become efficient at math problem so...</td>\n",
       "      <td>What can I do to become efficient at solving m...</td>\n",
       "      <td>True</td>\n",
       "    </tr>\n",
       "    <tr>\n",
       "      <th>139731</th>\n",
       "      <td>389844</td>\n",
       "      <td>174340</td>\n",
       "      <td>158723</td>\n",
       "      <td>Why are oceans blue?</td>\n",
       "      <td>Why are the oceans blue?</td>\n",
       "      <td>True</td>\n",
       "    </tr>\n",
       "    <tr>\n",
       "      <th>83140</th>\n",
       "      <td>134543</td>\n",
       "      <td>215015</td>\n",
       "      <td>215016</td>\n",
       "      <td>Now that Trump won, is he gonna build the wall...</td>\n",
       "      <td>Now that he's elected president, will Trump ac...</td>\n",
       "      <td>True</td>\n",
       "    </tr>\n",
       "  </tbody>\n",
       "</table>\n",
       "</div>"
      ],
      "text/plain": [
       "            id    qid1    qid2  \\\n",
       "246229  167726  259971  107016   \n",
       "57705   197153    7251   65964   \n",
       "36063   330075  456799  456800   \n",
       "139731  389844  174340  158723   \n",
       "83140   134543  215015  215016   \n",
       "\n",
       "                                                question1  \\\n",
       "246229              How do you train a Dogue de Bordeaux?   \n",
       "57705   Is it possible to get pregnant if a couple is ...   \n",
       "36063   What can I become efficient at math problem so...   \n",
       "139731                               Why are oceans blue?   \n",
       "83140   Now that Trump won, is he gonna build the wall...   \n",
       "\n",
       "                                                question2 is_duplicate  \n",
       "246229                            How can I train my dog?         True  \n",
       "57705   Can you get pregnant a couple days before your...         True  \n",
       "36063   What can I do to become efficient at solving m...         True  \n",
       "139731                           Why are the oceans blue?         True  \n",
       "83140   Now that he's elected president, will Trump ac...         True  "
      ]
     },
     "execution_count": 13,
     "metadata": {},
     "output_type": "execute_result"
    }
   ],
   "source": [
    "temp.tail()"
   ]
  },
  {
   "cell_type": "code",
   "execution_count": 16,
   "id": "d2f6327e",
   "metadata": {},
   "outputs": [],
   "source": [
    "text1 = temp['question1']+temp['question2']\n",
    "emotion= temp['is_duplicate'].tolist()"
   ]
  },
  {
   "cell_type": "code",
   "execution_count": 17,
   "id": "496c8a45",
   "metadata": {},
   "outputs": [],
   "source": [
    "text=text1.values.tolist()"
   ]
  },
  {
   "cell_type": "code",
   "execution_count": 18,
   "id": "06974fef",
   "metadata": {},
   "outputs": [],
   "source": [
    "from sklearn.model_selection import train_test_split\n",
    "X_train, X_test, y_train, y_test = train_test_split(text , emotion, test_size=.2, random_state=42)"
   ]
  },
  {
   "cell_type": "code",
   "execution_count": 19,
   "id": "fe9e61fb",
   "metadata": {},
   "outputs": [],
   "source": [
    "import ktrain\n",
    "from ktrain import text\n",
    "MODEL_NAME = 'prajjwal1/bert-tiny'\n",
    "t = text.Transformer(MODEL_NAME, maxlen=500)\n"
   ]
  },
  {
   "cell_type": "code",
   "execution_count": 20,
   "id": "c269013f",
   "metadata": {},
   "outputs": [
    {
     "name": "stdout",
     "output_type": "stream",
     "text": [
      "preprocessing train...\n",
      "language: en\n",
      "train sequence lengths:\n",
      "\tmean : 21\n",
      "\t95percentile : 36\n",
      "\t99percentile : 51\n"
     ]
    },
    {
     "data": {
      "text/html": [],
      "text/plain": [
       "<IPython.core.display.HTML object>"
      ]
     },
     "metadata": {},
     "output_type": "display_data"
    },
    {
     "name": "stdout",
     "output_type": "stream",
     "text": [
      "Is Multi-Label? False\n",
      "preprocessing test...\n",
      "language: en\n",
      "test sequence lengths:\n",
      "\tmean : 21\n",
      "\t95percentile : 37\n",
      "\t99percentile : 46\n"
     ]
    },
    {
     "data": {
      "text/html": [],
      "text/plain": [
       "<IPython.core.display.HTML object>"
      ]
     },
     "metadata": {},
     "output_type": "display_data"
    }
   ],
   "source": [
    "trn = t.preprocess_train(X_train, y_train)\n",
    "val = t.preprocess_test(X_test, y_test)"
   ]
  },
  {
   "cell_type": "code",
   "execution_count": 21,
   "id": "69d54231",
   "metadata": {
    "scrolled": true
   },
   "outputs": [
    {
     "name": "stderr",
     "output_type": "stream",
     "text": [
      "C:\\Users\\moshi\\anaconda3\\lib\\site-packages\\ktrain\\text\\preprocessor.py:1069: UserWarning: Could not find Tensorflow version of model.  Attempting to download/load PyTorch version as TensorFlow model using from_pt=True. You will need PyTorch installed for this.\n",
      "  warnings.warn('Could not find Tensorflow version of model.  Attempting to download/load PyTorch version as TensorFlow model using from_pt=True. ' +\\\n"
     ]
    }
   ],
   "source": [
    "model = t.get_classifier()"
   ]
  },
  {
   "cell_type": "code",
   "execution_count": 22,
   "id": "7070ffb4",
   "metadata": {},
   "outputs": [],
   "source": [
    "learner = ktrain.get_learner(model, train_data=trn, val_data=val, batch_size=6)"
   ]
  },
  {
   "cell_type": "code",
   "execution_count": 23,
   "id": "e1e76e69",
   "metadata": {
    "scrolled": true
   },
   "outputs": [
    {
     "name": "stdout",
     "output_type": "stream",
     "text": [
      "\n",
      "\n",
      "begin training using onecycle policy with max lr of 2e-05...\n",
      "Epoch 1/5\n",
      "67/67 [==============================] - 28s 330ms/step - loss: 0.7021 - accuracy: 0.4875 - val_loss: 0.7015 - val_accuracy: 0.4700\n",
      "Epoch 2/5\n",
      "67/67 [==============================] - 21s 318ms/step - loss: 0.6917 - accuracy: 0.5400 - val_loss: 0.6981 - val_accuracy: 0.4800\n",
      "Epoch 3/5\n",
      "67/67 [==============================] - 19s 280ms/step - loss: 0.6872 - accuracy: 0.5550 - val_loss: 0.6946 - val_accuracy: 0.5400\n",
      "Epoch 4/5\n",
      "67/67 [==============================] - 19s 284ms/step - loss: 0.6786 - accuracy: 0.5950 - val_loss: 0.6971 - val_accuracy: 0.4700\n",
      "Epoch 5/5\n",
      "67/67 [==============================] - 24s 353ms/step - loss: 0.6705 - accuracy: 0.6575 - val_loss: 0.6950 - val_accuracy: 0.4900\n"
     ]
    },
    {
     "data": {
      "text/plain": [
       "<keras.callbacks.History at 0x266f00b7550>"
      ]
     },
     "execution_count": 23,
     "metadata": {},
     "output_type": "execute_result"
    }
   ],
   "source": [
    "learner.fit_onecycle(2e-5, 5)"
   ]
  },
  {
   "cell_type": "code",
   "execution_count": 24,
   "id": "bcc966b6",
   "metadata": {},
   "outputs": [],
   "source": [
    "class_names=[\"acpt\",\"unac\"]"
   ]
  },
  {
   "cell_type": "code",
   "execution_count": 25,
   "id": "b9ccd39f",
   "metadata": {
    "scrolled": false
   },
   "outputs": [
    {
     "name": "stdout",
     "output_type": "stream",
     "text": [
      "              precision    recall  f1-score   support\n",
      "\n",
      "        acpt       0.46      0.59      0.51        46\n",
      "        unac       0.54      0.41      0.46        54\n",
      "\n",
      "    accuracy                           0.49       100\n",
      "   macro avg       0.50      0.50      0.49       100\n",
      "weighted avg       0.50      0.49      0.49       100\n",
      "\n"
     ]
    },
    {
     "data": {
      "text/plain": [
       "array([[27, 19],\n",
       "       [32, 22]], dtype=int64)"
      ]
     },
     "execution_count": 25,
     "metadata": {},
     "output_type": "execute_result"
    }
   ],
   "source": [
    "learner.validate(val_data=(val), class_names=class_names)"
   ]
  },
  {
   "cell_type": "code",
   "execution_count": null,
   "id": "b3ede535",
   "metadata": {},
   "outputs": [],
   "source": []
  }
 ],
 "metadata": {
  "kernelspec": {
   "display_name": "Python 3 (ipykernel)",
   "language": "python",
   "name": "python3"
  },
  "language_info": {
   "codemirror_mode": {
    "name": "ipython",
    "version": 3
   },
   "file_extension": ".py",
   "mimetype": "text/x-python",
   "name": "python",
   "nbconvert_exporter": "python",
   "pygments_lexer": "ipython3",
   "version": "3.9.7"
  }
 },
 "nbformat": 4,
 "nbformat_minor": 5
}
