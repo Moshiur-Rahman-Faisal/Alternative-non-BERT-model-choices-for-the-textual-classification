{
 "cells": [
  {
   "cell_type": "code",
   "execution_count": null,
   "id": "d32533c5",
   "metadata": {},
   "outputs": [],
   "source": [
    "import pandas as pd\n",
    "import numpy as np\n"
   ]
  },
  {
   "cell_type": "code",
   "execution_count": null,
   "id": "68458394",
   "metadata": {},
   "outputs": [],
   "source": [
    "df1 = pd.read_csv('qqp.csv',index_col=False, encoding='iso-8859-1', \n",
    "                                warn_bad_lines=True, error_bad_lines=False)\n",
    "\n",
    "df2 = pd.read_csv('qqp.csv',index_col=False, encoding='iso-8859-1', \n",
    "                                warn_bad_lines=True, error_bad_lines=False)\n"
   ]
  },
  {
   "cell_type": "code",
   "execution_count": null,
   "id": "5157cd5e",
   "metadata": {},
   "outputs": [],
   "source": [
    "df1.is_duplicate[df1.is_duplicate == 1]=\"True\"\n",
    "df1.is_duplicate[df1.is_duplicate == 0]=\"False\"\n",
    "\n",
    "df2.is_duplicate[df2.is_duplicate == 1]=\"True\"\n",
    "df2.is_duplicate[df2.is_duplicate == 0]=\"False\""
   ]
  },
  {
   "cell_type": "code",
   "execution_count": null,
   "id": "5b710247",
   "metadata": {},
   "outputs": [],
   "source": [
    "# taking acceptable and deleting unacceptable\n",
    "df3 = df1[~df1.is_duplicate.str.contains('True')]"
   ]
  },
  {
   "cell_type": "code",
   "execution_count": null,
   "id": "5704682f",
   "metadata": {},
   "outputs": [],
   "source": [
    "# randomly picking 250 rows\n",
    "df3 = df3.sample(n=250, replace=True)"
   ]
  },
  {
   "cell_type": "code",
   "execution_count": null,
   "id": "75cce3cb",
   "metadata": {},
   "outputs": [],
   "source": [
    "df3[\"is_duplicate\"].value_counts()"
   ]
  },
  {
   "cell_type": "code",
   "execution_count": null,
   "id": "6d353ff5",
   "metadata": {},
   "outputs": [],
   "source": [
    "# taking unacceptable and deleting unacceptable\n",
    "df4 = df2[~df2.is_duplicate.str.contains(\"False\")]"
   ]
  },
  {
   "cell_type": "code",
   "execution_count": null,
   "id": "b6ca1d3b",
   "metadata": {},
   "outputs": [],
   "source": [
    "# randomly picking 250 rows\n",
    "df4 = df4.sample(n=250, replace=True)"
   ]
  },
  {
   "cell_type": "code",
   "execution_count": null,
   "id": "8d533a8d",
   "metadata": {},
   "outputs": [],
   "source": [
    "df4[\"is_duplicate\"].value_counts()"
   ]
  },
  {
   "cell_type": "code",
   "execution_count": null,
   "id": "33f9d5e9",
   "metadata": {},
   "outputs": [],
   "source": [
    "#concating acceptable and unacceptable\n",
    "frames = [df3, df4]\n",
    "\n",
    "temp = pd.concat(frames)"
   ]
  },
  {
   "cell_type": "code",
   "execution_count": null,
   "id": "b62b7951",
   "metadata": {},
   "outputs": [],
   "source": [
    "temp[\"is_duplicate\"].value_counts()"
   ]
  },
  {
   "cell_type": "code",
   "execution_count": null,
   "id": "3c2ae414",
   "metadata": {
    "scrolled": false
   },
   "outputs": [],
   "source": [
    "temp.head()"
   ]
  },
  {
   "cell_type": "code",
   "execution_count": null,
   "id": "83d9ff3e",
   "metadata": {},
   "outputs": [],
   "source": [
    "temp.tail()"
   ]
  },
  {
   "cell_type": "code",
   "execution_count": null,
   "id": "d2f6327e",
   "metadata": {},
   "outputs": [],
   "source": [
    "text1 = temp['question1']+temp['question2']\n",
    "emotion= temp['is_duplicate'].tolist()"
   ]
  },
  {
   "cell_type": "code",
   "execution_count": null,
   "id": "eef82aff",
   "metadata": {},
   "outputs": [],
   "source": [
    "text=text1.values.tolist()"
   ]
  },
  {
   "cell_type": "code",
   "execution_count": null,
   "id": "06974fef",
   "metadata": {},
   "outputs": [],
   "source": [
    "from sklearn.model_selection import train_test_split\n",
    "X_train, X_test, y_train, y_test = train_test_split(text , emotion, test_size=.2, random_state=42)"
   ]
  },
  {
   "cell_type": "code",
   "execution_count": null,
   "id": "fe9e61fb",
   "metadata": {},
   "outputs": [],
   "source": [
    "import ktrain\n",
    "from ktrain import text\n",
    "MODEL_NAME = 'bert-base-multilingual-uncased'\n",
    "t = text.Transformer(MODEL_NAME, maxlen=500)\n"
   ]
  },
  {
   "cell_type": "code",
   "execution_count": null,
   "id": "c269013f",
   "metadata": {},
   "outputs": [],
   "source": [
    "trn = t.preprocess_train(X_train, y_train)\n",
    "val = t.preprocess_test(X_test, y_test)"
   ]
  },
  {
   "cell_type": "code",
   "execution_count": null,
   "id": "69d54231",
   "metadata": {
    "scrolled": true
   },
   "outputs": [],
   "source": [
    "model = t.get_classifier()"
   ]
  },
  {
   "cell_type": "code",
   "execution_count": null,
   "id": "7070ffb4",
   "metadata": {},
   "outputs": [],
   "source": [
    "learner = ktrain.get_learner(model, train_data=trn, val_data=val, batch_size=6)"
   ]
  },
  {
   "cell_type": "code",
   "execution_count": null,
   "id": "e1e76e69",
   "metadata": {
    "scrolled": true
   },
   "outputs": [],
   "source": [
    "learner.fit_onecycle(2e-5, 5)"
   ]
  },
  {
   "cell_type": "code",
   "execution_count": null,
   "id": "bcc966b6",
   "metadata": {},
   "outputs": [],
   "source": [
    "class_names=[\"acpt\",\"unac\"]"
   ]
  },
  {
   "cell_type": "code",
   "execution_count": null,
   "id": "b9ccd39f",
   "metadata": {
    "scrolled": false
   },
   "outputs": [],
   "source": [
    "learner.validate(val_data=(val), class_names=class_names)"
   ]
  },
  {
   "cell_type": "code",
   "execution_count": null,
   "id": "0ed64993",
   "metadata": {},
   "outputs": [],
   "source": []
  },
  {
   "cell_type": "code",
   "execution_count": null,
   "id": "b3ede535",
   "metadata": {},
   "outputs": [],
   "source": []
  }
 ],
 "metadata": {
  "kernelspec": {
   "display_name": "Python 3 (ipykernel)",
   "language": "python",
   "name": "python3"
  },
  "language_info": {
   "codemirror_mode": {
    "name": "ipython",
    "version": 3
   },
   "file_extension": ".py",
   "mimetype": "text/x-python",
   "name": "python",
   "nbconvert_exporter": "python",
   "pygments_lexer": "ipython3",
   "version": "3.9.7"
  }
 },
 "nbformat": 4,
 "nbformat_minor": 5
}
