{
 "cells": [
  {
   "cell_type": "code",
   "execution_count": 1,
   "id": "d32533c5",
   "metadata": {},
   "outputs": [],
   "source": [
    "import pandas as pd\n",
    "import numpy as np\n"
   ]
  },
  {
   "cell_type": "code",
   "execution_count": 2,
   "id": "68458394",
   "metadata": {},
   "outputs": [
    {
     "name": "stderr",
     "output_type": "stream",
     "text": [
      "C:\\Users\\moshi\\anaconda3\\lib\\site-packages\\IPython\\core\\interactiveshell.py:3444: FutureWarning: The error_bad_lines argument has been deprecated and will be removed in a future version.\n",
      "\n",
      "\n",
      "  exec(code_obj, self.user_global_ns, self.user_ns)\n",
      "C:\\Users\\moshi\\anaconda3\\lib\\site-packages\\IPython\\core\\interactiveshell.py:3444: FutureWarning: The warn_bad_lines argument has been deprecated and will be removed in a future version.\n",
      "\n",
      "\n",
      "  exec(code_obj, self.user_global_ns, self.user_ns)\n"
     ]
    }
   ],
   "source": [
    "df1 = pd.read_csv('qnli1.csv',index_col=False, encoding='iso-8859-1', \n",
    "                                warn_bad_lines=True, error_bad_lines=False)\n",
    "\n",
    "df2 = pd.read_csv('qnli1.csv',index_col=False, encoding='iso-8859-1', \n",
    "                                warn_bad_lines=True, error_bad_lines=False)\n"
   ]
  },
  {
   "cell_type": "code",
   "execution_count": 3,
   "id": "68d5355d",
   "metadata": {},
   "outputs": [
    {
     "data": {
      "text/html": [
       "<div>\n",
       "<style scoped>\n",
       "    .dataframe tbody tr th:only-of-type {\n",
       "        vertical-align: middle;\n",
       "    }\n",
       "\n",
       "    .dataframe tbody tr th {\n",
       "        vertical-align: top;\n",
       "    }\n",
       "\n",
       "    .dataframe thead th {\n",
       "        text-align: right;\n",
       "    }\n",
       "</style>\n",
       "<table border=\"1\" class=\"dataframe\">\n",
       "  <thead>\n",
       "    <tr style=\"text-align: right;\">\n",
       "      <th></th>\n",
       "      <th>question</th>\n",
       "      <th>sentence</th>\n",
       "      <th>label</th>\n",
       "    </tr>\n",
       "  </thead>\n",
       "  <tbody>\n",
       "    <tr>\n",
       "      <th>0</th>\n",
       "      <td>When did the third Digimon series begin?</td>\n",
       "      <td>Unlike the two seasons before it and most of t...</td>\n",
       "      <td>not_entailment</td>\n",
       "    </tr>\n",
       "    <tr>\n",
       "      <th>1</th>\n",
       "      <td>Which missile batteries often have individual ...</td>\n",
       "      <td>When MANPADS is operated by specialists, batte...</td>\n",
       "      <td>not_entailment</td>\n",
       "    </tr>\n",
       "    <tr>\n",
       "      <th>2</th>\n",
       "      <td>What two things does Popper argue Tarski's the...</td>\n",
       "      <td>He bases this interpretation on the fact that ...</td>\n",
       "      <td>entailment</td>\n",
       "    </tr>\n",
       "    <tr>\n",
       "      <th>3</th>\n",
       "      <td>What is the name of the village 9 miles north ...</td>\n",
       "      <td>On 31 December 1853, the Ottoman forces at Cal...</td>\n",
       "      <td>entailment</td>\n",
       "    </tr>\n",
       "    <tr>\n",
       "      <th>4</th>\n",
       "      <td>What famous palace is located in London?</td>\n",
       "      <td>London contains four World Heritage Sites: the...</td>\n",
       "      <td>not_entailment</td>\n",
       "    </tr>\n",
       "  </tbody>\n",
       "</table>\n",
       "</div>"
      ],
      "text/plain": [
       "                                            question  \\\n",
       "0           When did the third Digimon series begin?   \n",
       "1  Which missile batteries often have individual ...   \n",
       "2  What two things does Popper argue Tarski's the...   \n",
       "3  What is the name of the village 9 miles north ...   \n",
       "4           What famous palace is located in London?   \n",
       "\n",
       "                                            sentence           label  \n",
       "0  Unlike the two seasons before it and most of t...  not_entailment  \n",
       "1  When MANPADS is operated by specialists, batte...  not_entailment  \n",
       "2  He bases this interpretation on the fact that ...      entailment  \n",
       "3  On 31 December 1853, the Ottoman forces at Cal...      entailment  \n",
       "4  London contains four World Heritage Sites: the...  not_entailment  "
      ]
     },
     "execution_count": 3,
     "metadata": {},
     "output_type": "execute_result"
    }
   ],
   "source": [
    "df1.head()"
   ]
  },
  {
   "cell_type": "code",
   "execution_count": 4,
   "id": "5157cd5e",
   "metadata": {},
   "outputs": [
    {
     "data": {
      "text/plain": [
       "<bound method DataFrame.dropna of                                                question  \\\n",
       "0              When did the third Digimon series begin?   \n",
       "1     Which missile batteries often have individual ...   \n",
       "2     What two things does Popper argue Tarski's the...   \n",
       "3     What is the name of the village 9 miles north ...   \n",
       "4              What famous palace is located in London?   \n",
       "...                                                 ...   \n",
       "1427  The first American to travel into space was whom?   \n",
       "1428  How many years does a president have in office...   \n",
       "1429     What is the second principle of Protestantism?   \n",
       "1430  WHat is the earliest surviving use of the clan...   \n",
       "1431                                What are morphemes?   \n",
       "\n",
       "                                               sentence           label  \n",
       "0     Unlike the two seasons before it and most of t...  not_entailment  \n",
       "1     When MANPADS is operated by specialists, batte...  not_entailment  \n",
       "2     He bases this interpretation on the fact that ...      entailment  \n",
       "3     On 31 December 1853, the Ottoman forces at Cal...      entailment  \n",
       "4     London contains four World Heritage Sites: the...  not_entailment  \n",
       "...                                                 ...             ...  \n",
       "1427  Though he did not achieve orbit like Gagarin, ...  not_entailment  \n",
       "1428  The island has a president (elected every five...      entailment  \n",
       "1429  The second main principle, sola fide (by faith...      entailment  \n",
       "1430  The documentation regarding Raciborz and Alber...      entailment  \n",
       "1431  It is an agglutinative language; in other word...      entailment  \n",
       "\n",
       "[1432 rows x 3 columns]>"
      ]
     },
     "execution_count": 4,
     "metadata": {},
     "output_type": "execute_result"
    }
   ],
   "source": [
    "df1.dropna\n",
    "df2.dropna"
   ]
  },
  {
   "cell_type": "code",
   "execution_count": 5,
   "id": "8d533a8d",
   "metadata": {},
   "outputs": [
    {
     "data": {
      "text/plain": [
       "entailment        759\n",
       "not_entailment    673\n",
       "Name: label, dtype: int64"
      ]
     },
     "execution_count": 5,
     "metadata": {},
     "output_type": "execute_result"
    }
   ],
   "source": [
    "df1[\"label\"].value_counts()"
   ]
  },
  {
   "cell_type": "code",
   "execution_count": 6,
   "id": "f51c594c",
   "metadata": {},
   "outputs": [],
   "source": [
    "df3 = df1[df1['label'] == 'entailment']"
   ]
  },
  {
   "cell_type": "code",
   "execution_count": 7,
   "id": "a684cc5b",
   "metadata": {},
   "outputs": [],
   "source": [
    "# randomly picking 250 rows\n",
    "df3 = df3.sample(n=250, replace=True)"
   ]
  },
  {
   "cell_type": "code",
   "execution_count": 8,
   "id": "2691f3e9",
   "metadata": {},
   "outputs": [
    {
     "data": {
      "text/plain": [
       "entailment    250\n",
       "Name: label, dtype: int64"
      ]
     },
     "execution_count": 8,
     "metadata": {},
     "output_type": "execute_result"
    }
   ],
   "source": [
    "df3[\"label\"].value_counts()"
   ]
  },
  {
   "cell_type": "code",
   "execution_count": 9,
   "id": "95a44423",
   "metadata": {},
   "outputs": [],
   "source": [
    "df4 = df2[df2['label'] == 'not_entailment']"
   ]
  },
  {
   "cell_type": "code",
   "execution_count": 10,
   "id": "d4907ba0",
   "metadata": {},
   "outputs": [],
   "source": [
    "# randomly picking 250 rows\n",
    "df4 = df4.sample(n=250, replace=True)"
   ]
  },
  {
   "cell_type": "code",
   "execution_count": 11,
   "id": "b7312ea6",
   "metadata": {},
   "outputs": [
    {
     "data": {
      "text/plain": [
       "not_entailment    250\n",
       "Name: label, dtype: int64"
      ]
     },
     "execution_count": 11,
     "metadata": {},
     "output_type": "execute_result"
    }
   ],
   "source": [
    "df4[\"label\"].value_counts()"
   ]
  },
  {
   "cell_type": "code",
   "execution_count": 12,
   "id": "387a1299",
   "metadata": {},
   "outputs": [],
   "source": [
    "#concating acceptable and unacceptable\n",
    "frames = [df3, df4]\n",
    "\n",
    "temp = pd.concat(frames)"
   ]
  },
  {
   "cell_type": "code",
   "execution_count": 13,
   "id": "d8108391",
   "metadata": {},
   "outputs": [
    {
     "data": {
      "text/plain": [
       "entailment        250\n",
       "not_entailment    250\n",
       "Name: label, dtype: int64"
      ]
     },
     "execution_count": 13,
     "metadata": {},
     "output_type": "execute_result"
    }
   ],
   "source": [
    "temp[\"label\"].value_counts()"
   ]
  },
  {
   "cell_type": "code",
   "execution_count": 14,
   "id": "d8a4b445",
   "metadata": {},
   "outputs": [],
   "source": [
    "text1 = temp['question']+temp['sentence']\n",
    "emotion= temp['label'].tolist()"
   ]
  },
  {
   "cell_type": "code",
   "execution_count": 15,
   "id": "434ea098",
   "metadata": {
    "scrolled": true
   },
   "outputs": [],
   "source": [
    "text=text1.values.tolist()"
   ]
  },
  {
   "cell_type": "code",
   "execution_count": 16,
   "id": "b62b7951",
   "metadata": {
    "scrolled": true
   },
   "outputs": [
    {
     "data": {
      "text/plain": [
       "entailment        250\n",
       "not_entailment    250\n",
       "Name: label, dtype: int64"
      ]
     },
     "execution_count": 16,
     "metadata": {},
     "output_type": "execute_result"
    }
   ],
   "source": [
    "temp[\"label\"].value_counts()"
   ]
  },
  {
   "cell_type": "code",
   "execution_count": 17,
   "id": "06974fef",
   "metadata": {},
   "outputs": [],
   "source": [
    "from sklearn.model_selection import train_test_split\n",
    "X_train, X_test, y_train, y_test = train_test_split(text , emotion, test_size=.2, random_state=42)"
   ]
  },
  {
   "cell_type": "code",
   "execution_count": 18,
   "id": "fe9e61fb",
   "metadata": {},
   "outputs": [],
   "source": [
    "import ktrain\n",
    "from ktrain import text\n",
    "MODEL_NAME = 'prajjwal1/bert-tiny'\n",
    "t = text.Transformer(MODEL_NAME, maxlen=500)\n"
   ]
  },
  {
   "cell_type": "code",
   "execution_count": 19,
   "id": "c269013f",
   "metadata": {},
   "outputs": [
    {
     "name": "stdout",
     "output_type": "stream",
     "text": [
      "preprocessing train...\n",
      "language: en\n",
      "train sequence lengths:\n",
      "\tmean : 35\n",
      "\t95percentile : 58\n",
      "\t99percentile : 74\n"
     ]
    },
    {
     "data": {
      "text/html": [],
      "text/plain": [
       "<IPython.core.display.HTML object>"
      ]
     },
     "metadata": {},
     "output_type": "display_data"
    },
    {
     "name": "stdout",
     "output_type": "stream",
     "text": [
      "Is Multi-Label? False\n",
      "preprocessing test...\n",
      "language: en\n",
      "test sequence lengths:\n",
      "\tmean : 36\n",
      "\t95percentile : 58\n",
      "\t99percentile : 72\n"
     ]
    },
    {
     "data": {
      "text/html": [],
      "text/plain": [
       "<IPython.core.display.HTML object>"
      ]
     },
     "metadata": {},
     "output_type": "display_data"
    }
   ],
   "source": [
    "trn = t.preprocess_train(X_train, y_train)\n",
    "val = t.preprocess_test(X_test, y_test)"
   ]
  },
  {
   "cell_type": "code",
   "execution_count": 20,
   "id": "69d54231",
   "metadata": {
    "scrolled": true
   },
   "outputs": [
    {
     "name": "stderr",
     "output_type": "stream",
     "text": [
      "C:\\Users\\moshi\\anaconda3\\lib\\site-packages\\ktrain\\text\\preprocessor.py:1069: UserWarning: Could not find Tensorflow version of model.  Attempting to download/load PyTorch version as TensorFlow model using from_pt=True. You will need PyTorch installed for this.\n",
      "  warnings.warn('Could not find Tensorflow version of model.  Attempting to download/load PyTorch version as TensorFlow model using from_pt=True. ' +\\\n"
     ]
    }
   ],
   "source": [
    "model = t.get_classifier()"
   ]
  },
  {
   "cell_type": "code",
   "execution_count": 21,
   "id": "7070ffb4",
   "metadata": {},
   "outputs": [],
   "source": [
    "learner = ktrain.get_learner(model, train_data=trn, val_data=val, batch_size=6)"
   ]
  },
  {
   "cell_type": "code",
   "execution_count": 22,
   "id": "e1e76e69",
   "metadata": {
    "scrolled": true
   },
   "outputs": [
    {
     "name": "stdout",
     "output_type": "stream",
     "text": [
      "\n",
      "\n",
      "begin training using onecycle policy with max lr of 2e-05...\n",
      "Epoch 1/5\n",
      "67/67 [==============================] - 29s 330ms/step - loss: 0.6994 - accuracy: 0.5050 - val_loss: 0.7094 - val_accuracy: 0.4600\n",
      "Epoch 2/5\n",
      "67/67 [==============================] - 23s 346ms/step - loss: 0.6942 - accuracy: 0.5225 - val_loss: 0.7012 - val_accuracy: 0.4700\n",
      "Epoch 3/5\n",
      "67/67 [==============================] - 23s 346ms/step - loss: 0.6853 - accuracy: 0.5425 - val_loss: 0.6946 - val_accuracy: 0.5200\n",
      "Epoch 4/5\n",
      "67/67 [==============================] - 24s 358ms/step - loss: 0.6838 - accuracy: 0.5525 - val_loss: 0.6930 - val_accuracy: 0.5300\n",
      "Epoch 5/5\n",
      "67/67 [==============================] - 23s 338ms/step - loss: 0.6797 - accuracy: 0.5800 - val_loss: 0.6935 - val_accuracy: 0.4800\n"
     ]
    },
    {
     "data": {
      "text/plain": [
       "<keras.callbacks.History at 0x140fa4cdd60>"
      ]
     },
     "execution_count": 22,
     "metadata": {},
     "output_type": "execute_result"
    }
   ],
   "source": [
    "learner.fit_onecycle(2e-5, 5)"
   ]
  },
  {
   "cell_type": "code",
   "execution_count": 23,
   "id": "bcc966b6",
   "metadata": {},
   "outputs": [],
   "source": [
    "class_names=[\"TRUE\",\"FALSE\"]"
   ]
  },
  {
   "cell_type": "code",
   "execution_count": 24,
   "id": "b9ccd39f",
   "metadata": {
    "scrolled": true
   },
   "outputs": [
    {
     "name": "stdout",
     "output_type": "stream",
     "text": [
      "              precision    recall  f1-score   support\n",
      "\n",
      "        TRUE       0.46      0.78      0.58        46\n",
      "       FALSE       0.55      0.22      0.32        54\n",
      "\n",
      "    accuracy                           0.48       100\n",
      "   macro avg       0.50      0.50      0.45       100\n",
      "weighted avg       0.51      0.48      0.44       100\n",
      "\n"
     ]
    },
    {
     "data": {
      "text/plain": [
       "array([[36, 10],\n",
       "       [42, 12]], dtype=int64)"
      ]
     },
     "execution_count": 24,
     "metadata": {},
     "output_type": "execute_result"
    }
   ],
   "source": [
    "learner.validate(val_data=(val), class_names=class_names)"
   ]
  },
  {
   "cell_type": "code",
   "execution_count": null,
   "id": "0ed64993",
   "metadata": {},
   "outputs": [],
   "source": []
  },
  {
   "cell_type": "code",
   "execution_count": null,
   "id": "b3ede535",
   "metadata": {},
   "outputs": [],
   "source": []
  }
 ],
 "metadata": {
  "kernelspec": {
   "display_name": "Python 3 (ipykernel)",
   "language": "python",
   "name": "python3"
  },
  "language_info": {
   "codemirror_mode": {
    "name": "ipython",
    "version": 3
   },
   "file_extension": ".py",
   "mimetype": "text/x-python",
   "name": "python",
   "nbconvert_exporter": "python",
   "pygments_lexer": "ipython3",
   "version": "3.9.7"
  }
 },
 "nbformat": 4,
 "nbformat_minor": 5
}
